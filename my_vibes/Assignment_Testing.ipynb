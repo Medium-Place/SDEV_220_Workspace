{
 "cells": [
  {
   "cell_type": "markdown",
   "id": "6532fa89-5e64-4a90-8ba4-3a21fdb7aedb",
   "metadata": {},
   "source": [
    "These section regarding Unit Testing were Performed via VSCode, and But I will transport part of the code here in the notebook, although it will not run properly in Jupyter Notebook "
   ]
  },
  {
   "cell_type": "code",
   "execution_count": null,
   "id": "4861e44c-0199-4673-a9d1-2e95acc795cc",
   "metadata": {},
   "outputs": [],
   "source": [
    "# VSCode following the Tutorial on Testing \n",
    "# Code section test.py\n",
    "import unittest\n",
    "from my_sum import sum\n",
    "from fractions import Fraction\n",
    "\n",
    "class TestSum(unittest.TestCase):\n",
    "    def test_list_int(self):\n",
    "        \"\"\"\n",
    "        Test that it can sum a list of integers\n",
    "        \"\"\"\n",
    "        data = [1, 2, 3]\n",
    "        result = sum(data)\n",
    "        self.assertEqual(result, 6)\n",
    "\n",
    "    def test_list_fraction(self):\n",
    "        \"\"\"\n",
    "        Test that it can sum a list of fractions\n",
    "        \"\"\"\n",
    "        data = [Fraction(1, 4), Fraction(1, 4), Fraction(2, 5)]\n",
    "        result = sum(data)\n",
    "        self.assertEqual(result, 1)\n",
    "\n",
    "if __name__ == '__main__':\n",
    "    unittest.main()"
   ]
  },
  {
   "cell_type": "code",
   "execution_count": null,
   "id": "9a2ce96c-cca7-4982-b529-e86412d550c4",
   "metadata": {},
   "outputs": [],
   "source": [
    "# VSCode following the Tutorial on Test\n",
    "# Code section __init__.py\n",
    "def sum(arg):\n",
    "    total = 0\n",
    "    for val in arg:\n",
    "        total += val\n",
    "    return total"
   ]
  },
  {
   "cell_type": "code",
   "execution_count": null,
   "id": "40136f6f-f291-4f42-9c0b-4b32f444f623",
   "metadata": {},
   "outputs": [],
   "source": [
    "# VS Code following the Tutorial on Test\n",
    "# Code section test_sum_unittest.py\n",
    "import unittest\n",
    "class TestSum(unittest.TestCase):\n",
    "\n",
    "    def test_sum(self):\n",
    "        self.assertEqual(sum([1, 2, 3]), 6, \"Should be 6\")\n",
    "\n",
    "    def test_sum_tuple(self):\n",
    "        self.assertEqual(sum((1,2,2,)), 6, \"Should be 6\")\n",
    "\n",
    "if __name__ == '__main__':\n",
    "    unittest.main()\n",
    "    "
   ]
  },
  {
   "cell_type": "markdown",
   "id": "85018b3e-7813-4300-859b-2a0571ff3d9f",
   "metadata": {},
   "source": [
    "At the end of the notebook, describe the test results in your own words.  What do the test results mean?"
   ]
  },
  {
   "cell_type": "markdown",
   "id": "16061ede-ed6a-44cd-90c3-403eb1ff6278",
   "metadata": {},
   "source": [
    "These test results were teaching us the different ways that we can test our code and the accuracy of it. For the beginning test, as we were just testing basic sums, it first had us put in for one test case where the answer would be correct. Next, we were to add another test case on where the answer would be incorrect. This was to show us the format in which we would receive output based on how our test cases passed or failed the tests. \n",
    "\n",
    "We were shown where to write test case files, and how the setup of said files ought to look, as well as what we should do when a large number of test cases will be created. We were shown how the feedback output structure works for when cases fail and cases pass. It also went over how to better understand the output it gives the user so you can better understand the information that is shown. "
   ]
  }
 ],
 "metadata": {
  "kernelspec": {
   "display_name": "Python [conda env:base] *",
   "language": "python",
   "name": "conda-base-py"
  },
  "language_info": {
   "codemirror_mode": {
    "name": "ipython",
    "version": 3
   },
   "file_extension": ".py",
   "mimetype": "text/x-python",
   "name": "python",
   "nbconvert_exporter": "python",
   "pygments_lexer": "ipython3",
   "version": "3.12.7"
  }
 },
 "nbformat": 4,
 "nbformat_minor": 5
}
