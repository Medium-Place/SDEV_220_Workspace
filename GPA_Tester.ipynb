{
 "cells": [
  {
   "cell_type": "markdown",
   "id": "d0e736c6-00b8-4e9b-982a-828ab42afed4",
   "metadata": {},
   "source": [
    "Name: Jordan Henry \n",
    " "
   ]
  },
  {
   "cell_type": "markdown",
   "id": "e4c2b6ce-3fec-4500-b4fd-864eb9f2127a",
   "metadata": {},
   "source": [
    "File Name: GPA Tester"
   ]
  },
  {
   "cell_type": "markdown",
   "id": "0f8988bd-f935-4503-a05e-432411f9c6d5",
   "metadata": {},
   "source": [
    "Description: This app is designed to run through and test to see if the Student's Last name and GPA that is submitted fits the requirements necessary to make it on to the Dean's List. If the student does not meet the requirements for the Dean's List, the program then checks to see if the Student's GPA meets the requirements to make it on the Honor Role."
   ]
  },
  {
   "cell_type": "code",
   "execution_count": null,
   "id": "4f0572dc-b6f6-403f-ade9-df4da6e7a8eb",
   "metadata": {},
   "outputs": [],
   "source": [
    "# Start the code\n",
    "while True:\n",
    "    # Prompt for Student's Last name\n",
    "    last_name = input('Enter the student\\'s last name: ')\n",
    "    if last_name == 'ZZZ':\n",
    "        break # Add a break Command \n",
    "        \n",
    "    # Prompt the user for first name and GPA\n",
    "    first_name = input('Enter the student\\'s first name: ')\n",
    "    gpa = float(input('Enter the student\\'s GPA: '))\n",
    "    \n",
    "    # if-else statement to test student GPA \n",
    "    if gpa >= 3.5:\n",
    "        print(f'{first_name} {last_name} has made the Dean\\'s List.')\n",
    "    elif gpa >= 3.25:\n",
    "        print(f'{first_name} {last_name} has made the Honor Roll.')\n",
    "    else: \n",
    "        print(f'{first_name} {last_name} is currently not qualified for either academic recognition.')"
   ]
  },
  {
   "cell_type": "code",
   "execution_count": null,
   "id": "29b3671b-d29b-4cba-895d-ab2d1ff2cdaa",
   "metadata": {},
   "outputs": [],
   "source": []
  }
 ],
 "metadata": {
  "kernelspec": {
   "display_name": "Python [conda env:base] *",
   "language": "python",
   "name": "conda-base-py"
  },
  "language_info": {
   "codemirror_mode": {
    "name": "ipython",
    "version": 3
   },
   "file_extension": ".py",
   "mimetype": "text/x-python",
   "name": "python",
   "nbconvert_exporter": "python",
   "pygments_lexer": "ipython3",
   "version": "3.12.7"
  }
 },
 "nbformat": 4,
 "nbformat_minor": 5
}
