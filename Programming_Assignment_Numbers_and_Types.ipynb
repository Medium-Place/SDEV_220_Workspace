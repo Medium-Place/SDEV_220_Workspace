{
 "cells": [
  {
   "cell_type": "markdown",
   "id": "3bcc5219-c52d-45b1-8eec-14fc2b2af819",
   "metadata": {},
   "source": [
    "3.1 How many seconds are in an hour? "
   ]
  },
  {
   "cell_type": "code",
   "execution_count": 3,
   "id": "81ea7306-7e97-48a3-a2fc-f14bbb369438",
   "metadata": {
    "scrolled": true
   },
   "outputs": [
    {
     "data": {
      "text/plain": [
       "3600"
      ]
     },
     "execution_count": 3,
     "metadata": {},
     "output_type": "execute_result"
    }
   ],
   "source": [
    "60 * 60\n"
   ]
  },
  {
   "cell_type": "markdown",
   "id": "ff8c4376-7014-46a1-9fdc-6e6b72897f01",
   "metadata": {},
   "source": [
    "3.2 Assign the result from the previous task to a variable called (seconds_per_hour)"
   ]
  },
  {
   "cell_type": "code",
   "execution_count": 5,
   "id": "7a43aa89-40da-48dd-8a68-46ac56efe842",
   "metadata": {},
   "outputs": [],
   "source": [
    "seconds_per_hour = 60 * 60\n",
    "print(seconds_per_hour)"
   ]
  },
  {
   "cell_type": "markdown",
   "id": "64fe9442-d8a5-4557-8d08-0e8eb10fd1fa",
   "metadata": {},
   "source": [
    "3.3 How many seconds are in a day? Use the seconds_per_hour variable. "
   ]
  },
  {
   "cell_type": "code",
   "execution_count": 7,
   "id": "70f863ca-7445-4585-8346-9093c8f58987",
   "metadata": {},
   "outputs": [
    {
     "data": {
      "text/plain": [
       "86400"
      ]
     },
     "execution_count": 7,
     "metadata": {},
     "output_type": "execute_result"
    }
   ],
   "source": [
    "seconds_per_hour * 24 "
   ]
  },
  {
   "cell_type": "markdown",
   "id": "73f077cf-1bcc-4194-909c-03b7f50a7125",
   "metadata": {},
   "source": [
    "3.4 Calculate seconds_per_day again, but this time save the result in a variable called seconds_per_day. "
   ]
  },
  {
   "cell_type": "code",
   "execution_count": 9,
   "id": "63f9d509-15e8-4186-ad2f-c1d3bb26b310",
   "metadata": {},
   "outputs": [],
   "source": [
    "seconds_per_day = seconds_per_hour * 24 \n",
    "print(seconds_per_day)"
   ]
  },
  {
   "cell_type": "markdown",
   "id": "dfef25cc-5129-4496-a17e-7d6a524a2ce2",
   "metadata": {},
   "source": [
    "Divide seconds_per_day by seconds_per_hour. Use floating-point division"
   ]
  },
  {
   "cell_type": "code",
   "execution_count": 11,
   "id": "b5ca4a39-beb4-40ed-ada1-88563f818cf9",
   "metadata": {},
   "outputs": [
    {
     "data": {
      "text/plain": [
       "24.0"
      ]
     },
     "execution_count": 11,
     "metadata": {},
     "output_type": "execute_result"
    }
   ],
   "source": [
    "seconds_per_day / seconds_per_hour"
   ]
  },
  {
   "cell_type": "markdown",
   "id": "4a86b9af-d5d8-4d1d-916a-9399b39b43f7",
   "metadata": {},
   "source": [
    "Divide seconds_per_day by seconds_per_hour. Use integer division. Does this number agree with the floating-point value from the previous question, aside from the final .0?"
   ]
  },
  {
   "cell_type": "code",
   "execution_count": 13,
   "id": "fdfa4b5b-dd1a-4cbb-8451-0308f2e88b83",
   "metadata": {},
   "outputs": [
    {
     "data": {
      "text/plain": [
       "24"
      ]
     },
     "execution_count": 13,
     "metadata": {},
     "output_type": "execute_result"
    }
   ],
   "source": [
    "seconds_per_day // seconds_per_hour "
   ]
  },
  {
   "cell_type": "markdown",
   "id": "9a34ea2c-32d9-457b-9488-a844ba76aea8",
   "metadata": {},
   "source": [
    "Yes, the above number from the integer division matches the number from floating-point division! "
   ]
  }
 ],
 "metadata": {
  "kernelspec": {
   "display_name": "Python [conda env:base] *",
   "language": "python",
   "name": "conda-base-py"
  },
  "language_info": {
   "codemirror_mode": {
    "name": "ipython",
    "version": 3
   },
   "file_extension": ".py",
   "mimetype": "text/x-python",
   "name": "python",
   "nbconvert_exporter": "python",
   "pygments_lexer": "ipython3",
   "version": "3.12.7"
  }
 },
 "nbformat": 4,
 "nbformat_minor": 5
}
