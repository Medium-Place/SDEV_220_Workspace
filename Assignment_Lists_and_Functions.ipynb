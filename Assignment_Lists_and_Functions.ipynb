{
 "cells": [
  {
   "cell_type": "markdown",
   "id": "097890fe-cb34-4ada-bd0b-c4fa176d4482",
   "metadata": {},
   "source": [
    "7.4 Make a list called things with these three strings as elements: \"mozzarella\", \"cinderella\", \"salmonella\".\n"
   ]
  },
  {
   "cell_type": "code",
   "execution_count": 2,
   "id": "e20669b1-4ac8-443d-9e0c-4e082187ea9f",
   "metadata": {},
   "outputs": [],
   "source": [
    "# Make a list\n",
    "things = [\"mozarella\", \"cinderella\", \"salmonella\"]"
   ]
  },
  {
   "cell_type": "markdown",
   "id": "b85de9a9-37e2-4478-abcf-62753a2717ae",
   "metadata": {},
   "source": [
    "7.5 Capitalize the element in things that refers to a person and then print the list. Did it change the element in the list?\n"
   ]
  },
  {
   "cell_type": "code",
   "execution_count": 7,
   "id": "bbbab9bb-eda5-47b7-9672-0b7e6ded84c6",
   "metadata": {},
   "outputs": [
    {
     "name": "stdout",
     "output_type": "stream",
     "text": [
      "After Capitalizing 'cinderella':  ['mozarella', 'Cinderella', 'salmonella']\n"
     ]
    }
   ],
   "source": [
    "# Capitalize the person's name\n",
    "things[1] = things[1].capitalize()\n",
    "print(\"After Capitalizing 'cinderella': \", things)"
   ]
  },
  {
   "cell_type": "markdown",
   "id": "3072882f-1426-467b-8a4b-6a4586f070d7",
   "metadata": {},
   "source": [
    "Yes, it changed 'cinderella' from lowercase to uppercase. "
   ]
  },
  {
   "cell_type": "markdown",
   "id": "855be147-c923-4996-b85a-82ae17a200ba",
   "metadata": {},
   "source": [
    "7.6 Make the cheesy element of things all uppercase and then print the list"
   ]
  },
  {
   "cell_type": "code",
   "execution_count": 16,
   "id": "4df2f27b-b9ef-4db5-b678-f4de2cc55a0e",
   "metadata": {},
   "outputs": [
    {
     "name": "stdout",
     "output_type": "stream",
     "text": [
      "After capitalizing 'mozarella':  ['Mozarella', 'Cinderella', 'salmonella']\n"
     ]
    }
   ],
   "source": [
    "# Capitalize the Cheese element\n",
    "things[0] = things[0].capitalize()\n",
    "print(\"After capitalizing 'mozarella': \", things)"
   ]
  },
  {
   "cell_type": "markdown",
   "id": "9a5271a4-419c-46de-84bb-1cd38337a976",
   "metadata": {},
   "source": [
    "7.7 Delete the disease element from things, collect your Nobel Prize, and print the list.\n"
   ]
  },
  {
   "cell_type": "code",
   "execution_count": 19,
   "id": "fa7d7db3-90f3-4581-8ec5-094329e09fd6",
   "metadata": {},
   "outputs": [
    {
     "name": "stdout",
     "output_type": "stream",
     "text": [
      "After removing salmonella:  ['Mozarella', 'Cinderella']\n"
     ]
    }
   ],
   "source": [
    "# Delete the disease element \n",
    "things.remove(\"salmonella\")\n",
    "print(\"After removing salmonella: \", things)"
   ]
  },
  {
   "cell_type": "markdown",
   "id": "5901df1d-cab4-4be4-8bc1-d05c0134b5d6",
   "metadata": {},
   "source": [
    "9.1  Define a function called good() that returns the following list: ['Harry', 'Ron', 'Hermione'].\n"
   ]
  },
  {
   "cell_type": "code",
   "execution_count": 37,
   "id": "7ae8250b-6ebc-4020-a1cd-27ccf1dd3a1b",
   "metadata": {},
   "outputs": [
    {
     "name": "stdout",
     "output_type": "stream",
     "text": [
      "Returning the list inside the function results in:  ['Harry', 'Ron', 'Hermione']\n"
     ]
    }
   ],
   "source": [
    "# Create a function\n",
    "def good():\n",
    "    list_1 = ['Harry', 'Ron', 'Hermione']\n",
    "    return list_1\n",
    "\n",
    "print(\"Returning the list inside the function results in: \", good())"
   ]
  },
  {
   "cell_type": "markdown",
   "id": "aeccf645-7d42-45b0-8ca9-61c5ecec2752",
   "metadata": {},
   "source": [
    "9.2 Define a generator function called get_odds() that returns the odd numbers from range(10). Use a for loop to find and print the third value returned."
   ]
  },
  {
   "cell_type": "code",
   "execution_count": 31,
   "id": "2a6d2b9a-b358-4d2d-9098-1fa453ac70c7",
   "metadata": {},
   "outputs": [
    {
     "name": "stdout",
     "output_type": "stream",
     "text": [
      "5\n"
     ]
    }
   ],
   "source": [
    "# Create a function \n",
    "def get_odds():\n",
    "    for num in range(10):\n",
    "        if num % 2 != 0: \n",
    "            yield num\n",
    "\n",
    "# use the generator function in a for loop\n",
    "count = 0\n",
    "for num in get_odds():\n",
    "    if count == 2:\n",
    "        print(num)\n",
    "        break\n",
    "    count += 1"
   ]
  },
  {
   "cell_type": "code",
   "execution_count": null,
   "id": "458c7334-3d12-43ad-837c-fb85d38298c8",
   "metadata": {},
   "outputs": [],
   "source": []
  }
 ],
 "metadata": {
  "kernelspec": {
   "display_name": "Python [conda env:base] *",
   "language": "python",
   "name": "conda-base-py"
  },
  "language_info": {
   "codemirror_mode": {
    "name": "ipython",
    "version": 3
   },
   "file_extension": ".py",
   "mimetype": "text/x-python",
   "name": "python",
   "nbconvert_exporter": "python",
   "pygments_lexer": "ipython3",
   "version": "3.12.7"
  }
 },
 "nbformat": 4,
 "nbformat_minor": 5
}
