{
 "cells": [
  {
   "cell_type": "markdown",
   "id": "c63a1452-95a3-4858-bf43-ecb56b3d3f94",
   "metadata": {},
   "source": [
    "Sort an Array of 0s, 1s, and 2s\n",
    "Given an array arr[] containing only 0s, 1s, and 2s. Sort the array in ascending order."
   ]
  },
  {
   "cell_type": "code",
   "execution_count": null,
   "id": "2d0570f8-22ba-4185-a7bf-6cb0b44acb25",
   "metadata": {},
   "outputs": [],
   "source": [
    "class Solution:\n",
    "    # Function to sort an array of 0s, 1s, and 2s\n",
    "    def sort012(self, arr):\n",
    "        # code here\n",
    "       low = 0\n",
    "       mid = 0\n",
    "       high = len(arr) - 1\n",
    "       \n",
    "       while mid <= high:\n",
    "           if arr[mid] == 0:\n",
    "               # Swap arr[mid] and arr[low], move the higher number to the high\n",
    "               arr[low], arr[mid] = arr[mid], arr[low]\n",
    "               low += 1\n",
    "               mid += 1\n",
    "           elif arr[mid] == 1:\n",
    "               mid += 1\n",
    "           else: \n",
    "               # Swap arr[mid] and arr[high] and move the higher number to the right \n",
    "               arr[high], arr[mid], = arr[mid], arr[high]\n",
    "               high -= 1\n",
    "       \n",
    "       \n",
    "       return arr"
   ]
  },
  {
   "cell_type": "markdown",
   "id": "8b933f49-e558-4adc-8676-3bd9c58dcd0d",
   "metadata": {},
   "source": [
    "Binary Search\n",
    "Given a sorted array arr and an integer k, find the position(0-based indexing) at which k is present in the array using binary search."
   ]
  },
  {
   "cell_type": "code",
   "execution_count": null,
   "id": "5ca1e269-4170-49c0-a347-3c5bf603d4ec",
   "metadata": {},
   "outputs": [],
   "source": [
    "class Solution:\n",
    "    def binarysearch(self, arr, k):\n",
    "        # Code Here\n",
    "        left = 0\n",
    "        right = len(arr) - 1\n",
    "        result = -1\n",
    "        \n",
    "        # Perform binary search\n",
    "        while left <= right:\n",
    "            mid = left + (right - left) // 2  # Find the middle index\n",
    "            \n",
    "            if arr[mid] == k:\n",
    "                # If we find k, store the index and continue searching to the left\n",
    "                result = mid\n",
    "                right = mid - 1  # Keep searching to the left side\n",
    "            elif arr[mid] < k:\n",
    "                left = mid + 1  # Move to the right half\n",
    "            else:\n",
    "                right = mid - 1  # Move to the left half\n",
    "\n",
    "        return result\n",
    "   "
   ]
  }
 ],
 "metadata": {
  "kernelspec": {
   "display_name": "Python [conda env:base] *",
   "language": "python",
   "name": "conda-base-py"
  },
  "language_info": {
   "codemirror_mode": {
    "name": "ipython",
    "version": 3
   },
   "file_extension": ".py",
   "mimetype": "text/x-python",
   "name": "python",
   "nbconvert_exporter": "python",
   "pygments_lexer": "ipython3",
   "version": "3.12.7"
  }
 },
 "nbformat": 4,
 "nbformat_minor": 5
}
