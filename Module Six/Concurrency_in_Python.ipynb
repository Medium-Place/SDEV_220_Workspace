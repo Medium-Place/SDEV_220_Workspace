{
 "cells": [
  {
   "cell_type": "markdown",
   "id": "3e9e3d58-9878-40d7-b839-3e82769911e1",
   "metadata": {},
   "source": [
    "13.1  Write the current date as a string to the text file today.txt"
   ]
  },
  {
   "cell_type": "code",
   "execution_count": 70,
   "id": "a5fa2039-4a50-49b9-836c-a8de1ad52178",
   "metadata": {},
   "outputs": [],
   "source": [
    "from datetime import date\n",
    "\n",
    "today = date.today()\n",
    "\n",
    "today_string = today.isoformat()\n",
    "\n",
    "with open('today.txt', 'w') as file: \n",
    "    file.write(today_string)\n"
   ]
  },
  {
   "cell_type": "markdown",
   "id": "6a5605bd-974e-45a7-a274-ef73d4b342ea",
   "metadata": {},
   "source": [
    "13.2 Read the text file today.txt into the string today_string.\n"
   ]
  },
  {
   "cell_type": "code",
   "execution_count": 57,
   "id": "82a88cb9-c8d1-4b8a-bf80-9f7399ae7fdf",
   "metadata": {},
   "outputs": [],
   "source": [
    "# read the text file into string today_string\n",
    "with open('today.txt', 'r') as file: \n",
    "    today_string = file.read()"
   ]
  },
  {
   "cell_type": "markdown",
   "id": "1ddce3ac-7e6d-45b0-9ae7-aea1fcc1d987",
   "metadata": {},
   "source": [
    "13.3 Parse the date from today_string\n"
   ]
  },
  {
   "cell_type": "code",
   "execution_count": 68,
   "id": "f6dd6542-356c-43c4-92c0-0c818c0d8d93",
   "metadata": {},
   "outputs": [
    {
     "name": "stdout",
     "output_type": "stream",
     "text": [
      "2025-04-27 00:00:00\n"
     ]
    }
   ],
   "source": [
    "\n",
    "from datetime import datetime\n",
    "\n",
    "date_format = \"It's %A, %B %d, %Y\"\n",
    "\n",
    "today_string = \"It's Sunday, April 27, 2025\"\n",
    "\n",
    "parsed_date = datetime.strptime(today_string, date_format)\n",
    "\n",
    "print(parsed_date)"
   ]
  },
  {
   "cell_type": "markdown",
   "id": "85479a81-50f7-4fa2-ab85-3d6d3ee6bda3",
   "metadata": {},
   "source": [
    "15.1 Use multiprocessing to create three separate processes. Make each one wait a random number of seconds between zero and one, print the current time, and then exit."
   ]
  },
  {
   "cell_type": "code",
   "execution_count": 62,
   "id": "a4e1bf09-e631-49ec-abd9-d4d26090b2f2",
   "metadata": {},
   "outputs": [
    {
     "name": "stdout",
     "output_type": "stream",
     "text": [
      "Today's date and time is 2025-04-28 12:30:31.967412\n",
      "Today's date and time is 2025-04-28 12:30:32.570602\n",
      "Today's date and time is 2025-04-28 12:30:33.403473\n",
      "Completed\n"
     ]
    }
   ],
   "source": [
    "import multiprocessing\n",
    "from datetime import datetime\n",
    "import time\n",
    "import random\n",
    "\n",
    "\n",
    "def print_time():\n",
    "    now = datetime.now()\n",
    "    print(\"Today's date and time is {}\".format(now))\n",
    "    time.sleep(random.random())\n",
    "\n",
    "\n",
    "if __name__ == '__main__':\n",
    "    proc1 = multiprocessing.Process(target=print_time())\n",
    "    proc2 = multiprocessing.Process(target=print_time())\n",
    "    proc3 = multiprocessing.Process(target=print_time())\n",
    "    proc1.start()\n",
    "    proc2.start()\n",
    "    proc3.start()\n",
    "    proc1.join()\n",
    "    proc2.join()\n",
    "    proc3.join()\n",
    "\n",
    "    print(\"Processes Finished\")"
   ]
  },
  {
   "cell_type": "code",
   "execution_count": null,
   "id": "76c5442f-a3e2-422d-aacd-5a810134ee2b",
   "metadata": {},
   "outputs": [],
   "source": []
  }
 ],
 "metadata": {
  "kernelspec": {
   "display_name": "Python [conda env:base] *",
   "language": "python",
   "name": "conda-base-py"
  },
  "language_info": {
   "codemirror_mode": {
    "name": "ipython",
    "version": 3
   },
   "file_extension": ".py",
   "mimetype": "text/x-python",
   "name": "python",
   "nbconvert_exporter": "python",
   "pygments_lexer": "ipython3",
   "version": "3.12.7"
  }
 },
 "nbformat": 4,
 "nbformat_minor": 5
}
