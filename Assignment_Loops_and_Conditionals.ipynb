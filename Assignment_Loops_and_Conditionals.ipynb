{
 "cells": [
  {
   "cell_type": "markdown",
   "id": "a97415dc-3713-4904-bc66-ae1f9841fbfa",
   "metadata": {},
   "source": [
    "4.1 Choose a number between 1 and 10 and assign it to the variable 'secret'. Then, select another number between 1 and 10 and assign it to the variable 'guess'. Next, write the conditional tests (if, else, and elif) to print the string 'too low', if 'guess' is less than secret, 'too high' if greater than 'secret', and 'just right' if equal to 'secret' "
   ]
  },
  {
   "cell_type": "code",
   "execution_count": null,
   "id": "3e6e00b1-c638-443c-b799-c53d7b130b49",
   "metadata": {},
   "outputs": [],
   "source": [
    "secret = 7\n",
    "guess = 8 \n",
    "if guess > secret:\n",
    "    print(\"Too high\")\n",
    "elif guess < secret:\n",
    "    print(\"Too low\")\n",
    "else:\n",
    "    print(\"Just right!\")\n"
   ]
  },
  {
   "cell_type": "markdown",
   "id": "2e9f0379-98d6-4dda-93af-25a6fb831a00",
   "metadata": {},
   "source": [
    "Assign 'True' or 'False' to the variables 'small' and 'green'. Write some if/else statements to print which of these matches those choices: cherry, pea, watermelon, pumpkin"
   ]
  },
  {
   "cell_type": "code",
   "execution_count": null,
   "id": "d1ff1be0-9400-49f5-a9da-3cccbfe7800c",
   "metadata": {},
   "outputs": [],
   "source": [
    "small = True\n",
    "green = False\n",
    "if small and green:\n",
    "    print('pea')\n",
    "elif small and not green:\n",
    "    print('cherry')\n",
    "elif not small and green:\n",
    "    print('watermelon')\n",
    "elif not small and not green:\n",
    "    print('pumpkin')"
   ]
  },
  {
   "cell_type": "markdown",
   "id": "c094b046-f4a3-4a2c-83d7-6bd3bca81d7e",
   "metadata": {},
   "source": [
    "6.1 Use a for loop to print the values of the list [3, 2, 1, 0]."
   ]
  },
  {
   "cell_type": "code",
   "execution_count": null,
   "id": "cfd1a83a-c010-461e-9a15-701e8c5ec6a1",
   "metadata": {},
   "outputs": [],
   "source": [
    "list = [3,2,1,0]\n",
    "\n",
    "for item in list: #print each value in the list \n",
    "    print(item)"
   ]
  },
  {
   "cell_type": "markdown",
   "id": "c5fc6208-021d-4d9d-ab43-f574b7738854",
   "metadata": {},
   "source": [
    "6.2 Assign the value 7 to the variable guess_me, and the value 1 to the variable number. Write a while loop that compares number with guess_me. Print 'too low' if number is less than guess me. If number equals guess_me, print 'found it!' and then exit the loop. If number is greater than guess_me, print 'oops' and then exit the loop. Increment number at the end of the loop."
   ]
  },
  {
   "cell_type": "code",
   "execution_count": null,
   "id": "4b20ce07-9e45-4f80-8d39-f3c9591302a9",
   "metadata": {},
   "outputs": [],
   "source": [
    "guess_me = 7 \n",
    "number = 1 \n",
    "\n",
    "while True:\n",
    "    if guess_me > number:\n",
    "        print('Too low')\n",
    "    elif guess_me == number:\n",
    "        print('Found it!')\n",
    "        break\n",
    "    elif guess_me < number:\n",
    "        print('Oops')\n",
    "        break\n",
    "    number += 1\n"
   ]
  },
  {
   "cell_type": "markdown",
   "id": "dcf42aa7-e829-4df3-864b-a2faecd49df5",
   "metadata": {},
   "source": [
    "6.3 Assign the value 5 to the variable guess_me. Use a for loop to iterate a variable called number over range(10). If number is less than guess_me, print 'too low'. If it equals guess_me, print found it! and then break out of the for loop. If number is greater than guess_me, print 'oops' and then exit the loop."
   ]
  },
  {
   "cell_type": "code",
   "execution_count": null,
   "id": "fe723ea0-fa7c-48e0-8476-dd7aa000bcea",
   "metadata": {},
   "outputs": [],
   "source": [
    "guess_me = 5\n",
    "\n",
    "for number in range(10):\n",
    "    if number < guess_me:\n",
    "        print(\"too low\")\n",
    "    elif number == guess_me:\n",
    "        print(\"found it!\")\n",
    "        break\n",
    "    else:\n",
    "        print(\"oops\")\n",
    "        break"
   ]
  },
  {
   "cell_type": "code",
   "execution_count": null,
   "id": "78c4ffde-ee4a-43ee-bc63-1ef82d548b4e",
   "metadata": {},
   "outputs": [],
   "source": []
  }
 ],
 "metadata": {
  "kernelspec": {
   "display_name": "Python [conda env:base] *",
   "language": "python",
   "name": "conda-base-py"
  },
  "language_info": {
   "codemirror_mode": {
    "name": "ipython",
    "version": 3
   },
   "file_extension": ".py",
   "mimetype": "text/x-python",
   "name": "python",
   "nbconvert_exporter": "python",
   "pygments_lexer": "ipython3",
   "version": "3.12.7"
  }
 },
 "nbformat": 4,
 "nbformat_minor": 5
}
