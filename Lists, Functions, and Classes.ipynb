{
 "cells": [
  {
   "cell_type": "code",
   "execution_count": null,
   "id": "87d742fe-7f6b-46f1-8113-3c33c2539235",
   "metadata": {},
   "outputs": [],
   "source": [
    "# Define the superclass\n",
    "class Vehicle:\n",
    "    def __init__(self, vehicle_type):\n",
    "        self.vehicle_type = vehicle_type\n",
    "\n",
    "# Define the subclass \n",
    "class Automobile(Vehicle):\n",
    "    def __init__(self, year, make, model, doors, roof_type):\n",
    "        # Initialize the superclass (Vehicle)\n",
    "        super().__init__(\"car\")  \n",
    "        # Initialize the attributes \n",
    "        self.year = year\n",
    "        self.make = make\n",
    "        self.model = model\n",
    "        self.doors = doors\n",
    "        self.roof_type = roof_type\n",
    "\n",
    "    # Method for displaying the car details\n",
    "    def display_info(self):\n",
    "        print(f\"Vehicle Type: {self.vehicle_type.capitalize()}\")\n",
    "        print(f\"Year: {self.year}\")\n",
    "        print(f\"Make: {self.make}\")\n",
    "        print(f\"Model: {self.model}\")\n",
    "        print(f\"Doors: {self.doors} doors\")\n",
    "        print(f\"Roof Type: {self.roof_type.capitalize()}\")\n",
    "\n",
    "# Function for the main application\n",
    "def main():\n",
    "    \n",
    "    # Prompt the user for the input for the car\n",
    "    year = input(\"Enter the year of the car: \")\n",
    "    make = input(\"Enter the make of the car: \")\n",
    "    model = input(\"Enter the model of the car: \")\n",
    "    doors = input(\"Enter the number of doors (2 or 4): \")\n",
    "    roof_type = input(\"Enter the type of roof (solid or sun roof): \")\n",
    "    \n",
    "    car = Automobile(year, make, model, doors, roof_type)\n",
    "    \n",
    "    # Display the car's details\n",
    "    print(\"\\nCar Details:\")\n",
    "    car.display_info()\n",
    "\n",
    "# Run the application\n",
    "if __name__ == \"__main__\":\n",
    "    main()"
   ]
  },
  {
   "cell_type": "code",
   "execution_count": null,
   "id": "4a3adeb8-3547-4e2e-ba92-d050d0d24579",
   "metadata": {},
   "outputs": [],
   "source": []
  }
 ],
 "metadata": {
  "kernelspec": {
   "display_name": "Python [conda env:base] *",
   "language": "python",
   "name": "conda-base-py"
  },
  "language_info": {
   "codemirror_mode": {
    "name": "ipython",
    "version": 3
   },
   "file_extension": ".py",
   "mimetype": "text/x-python",
   "name": "python",
   "nbconvert_exporter": "python",
   "pygments_lexer": "ipython3",
   "version": "3.12.7"
  }
 },
 "nbformat": 4,
 "nbformat_minor": 5
}
